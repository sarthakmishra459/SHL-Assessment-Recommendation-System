{
 "cells": [
  {
   "cell_type": "code",
   "execution_count": 2,
   "metadata": {},
   "outputs": [],
   "source": [
    "import os\n",
    "from dotenv import load_dotenv\n",
    "load_dotenv()\n",
    "os.environ[\"GOOGLE_API_KEY\"] = os.getenv(\"GOOGLE_API_KEY\")"
   ]
  },
  {
   "cell_type": "code",
   "execution_count": 8,
   "metadata": {},
   "outputs": [],
   "source": [
    "GOOGLE_API_KEY = os.getenv(\"GOOGLE_API_KEY\")"
   ]
  },
  {
   "cell_type": "code",
   "execution_count": 10,
   "metadata": {},
   "outputs": [
    {
     "name": "stdout",
     "output_type": "stream",
     "text": [
      "Collecting google-genai==1.7.0Note: you may need to restart the kernel to use updated packages.\n"
     ]
    },
    {
     "name": "stderr",
     "output_type": "stream",
     "text": [
      "ERROR: pip's dependency resolver does not currently take into account all the packages that are installed. This behaviour is the source of the following dependency conflicts.\n",
      "langchain-anthropic 0.2.1 requires langchain-core<0.4.0,>=0.3.1, but you have langchain-core 0.1.52 which is incompatible.\n",
      "llama-index-embeddings-openai 0.1.11 requires llama-index-core<0.11.0,>=0.10.1, but you have llama-index-core 0.11.0 which is incompatible.\n",
      "llama-index-indices-managed-llama-cloud 0.1.6 requires llama-index-core<0.11.0,>=0.10.0, but you have llama-index-core 0.11.0 which is incompatible.\n",
      "llama-index-legacy 0.9.48.post3 requires openai>=1.1.0, but you have openai 0.28.0 which is incompatible.\n",
      "llama-index-llms-openai 0.1.31 requires llama-index-core<0.11.0,>=0.10.57, but you have llama-index-core 0.11.0 which is incompatible.\n",
      "llama-index-llms-openai 0.1.31 requires openai<2.0.0,>=1.40.0, but you have openai 0.28.0 which is incompatible.\n",
      "llama-index-multi-modal-llms-openai 0.1.9 requires llama-index-core<0.11.0,>=0.10.1, but you have llama-index-core 0.11.0 which is incompatible.\n",
      "llama-index-program-openai 0.1.7 requires llama-index-core<0.11.0,>=0.10.57, but you have llama-index-core 0.11.0 which is incompatible.\n",
      "llama-index-question-gen-openai 0.1.3 requires llama-index-core<0.11.0,>=0.10.1, but you have llama-index-core 0.11.0 which is incompatible.\n",
      "llama-index-readers-file 0.1.33 requires llama-index-core<0.11.0,>=0.10.37.post1, but you have llama-index-core 0.11.0 which is incompatible.\n",
      "llama-index-readers-llama-parse 0.1.6 requires llama-index-core<0.11.0,>=0.10.7, but you have llama-index-core 0.11.0 which is incompatible.\n",
      "\n",
      "[notice] A new release of pip is available: 24.2 -> 25.0.1\n",
      "[notice] To update, run: python.exe -m pip install --upgrade pip\n"
     ]
    },
    {
     "name": "stdout",
     "output_type": "stream",
     "text": [
      "\n",
      "  Using cached google_genai-1.7.0-py3-none-any.whl.metadata (32 kB)\n",
      "Collecting anyio<5.0.0,>=4.8.0 (from google-genai==1.7.0)\n",
      "  Using cached anyio-4.9.0-py3-none-any.whl.metadata (4.7 kB)\n",
      "Requirement already satisfied: google-auth<3.0.0,>=2.14.1 in c:\\users\\sarth\\appdata\\local\\programs\\python\\python312\\lib\\site-packages (from google-genai==1.7.0) (2.35.0)\n",
      "Collecting httpx<1.0.0,>=0.28.1 (from google-genai==1.7.0)\n",
      "  Using cached httpx-0.28.1-py3-none-any.whl.metadata (7.1 kB)\n",
      "Requirement already satisfied: pydantic<3.0.0,>=2.0.0 in c:\\users\\sarth\\appdata\\local\\programs\\python\\python312\\lib\\site-packages (from google-genai==1.7.0) (2.9.2)\n",
      "Requirement already satisfied: requests<3.0.0,>=2.28.1 in c:\\users\\sarth\\appdata\\local\\programs\\python\\python312\\lib\\site-packages (from google-genai==1.7.0) (2.32.3)\n",
      "Collecting websockets<15.1.0,>=13.0.0 (from google-genai==1.7.0)\n",
      "  Using cached websockets-15.0.1-cp312-cp312-win_amd64.whl.metadata (7.0 kB)\n",
      "Requirement already satisfied: typing-extensions<5.0.0,>=4.11.0 in c:\\users\\sarth\\appdata\\local\\programs\\python\\python312\\lib\\site-packages (from google-genai==1.7.0) (4.12.2)\n",
      "Requirement already satisfied: idna>=2.8 in c:\\users\\sarth\\appdata\\local\\programs\\python\\python312\\lib\\site-packages (from anyio<5.0.0,>=4.8.0->google-genai==1.7.0) (3.10)\n",
      "Requirement already satisfied: sniffio>=1.1 in c:\\users\\sarth\\appdata\\local\\programs\\python\\python312\\lib\\site-packages (from anyio<5.0.0,>=4.8.0->google-genai==1.7.0) (1.3.1)\n",
      "Requirement already satisfied: cachetools<6.0,>=2.0.0 in c:\\users\\sarth\\appdata\\local\\programs\\python\\python312\\lib\\site-packages (from google-auth<3.0.0,>=2.14.1->google-genai==1.7.0) (5.5.0)\n",
      "Requirement already satisfied: pyasn1-modules>=0.2.1 in c:\\users\\sarth\\appdata\\local\\programs\\python\\python312\\lib\\site-packages (from google-auth<3.0.0,>=2.14.1->google-genai==1.7.0) (0.4.1)\n",
      "Requirement already satisfied: rsa<5,>=3.1.4 in c:\\users\\sarth\\appdata\\local\\programs\\python\\python312\\lib\\site-packages (from google-auth<3.0.0,>=2.14.1->google-genai==1.7.0) (4.9)\n",
      "Requirement already satisfied: certifi in c:\\users\\sarth\\appdata\\local\\programs\\python\\python312\\lib\\site-packages (from httpx<1.0.0,>=0.28.1->google-genai==1.7.0) (2024.8.30)\n",
      "Requirement already satisfied: httpcore==1.* in c:\\users\\sarth\\appdata\\local\\programs\\python\\python312\\lib\\site-packages (from httpx<1.0.0,>=0.28.1->google-genai==1.7.0) (1.0.5)\n",
      "Requirement already satisfied: h11<0.15,>=0.13 in c:\\users\\sarth\\appdata\\local\\programs\\python\\python312\\lib\\site-packages (from httpcore==1.*->httpx<1.0.0,>=0.28.1->google-genai==1.7.0) (0.14.0)\n",
      "Requirement already satisfied: annotated-types>=0.6.0 in c:\\users\\sarth\\appdata\\local\\programs\\python\\python312\\lib\\site-packages (from pydantic<3.0.0,>=2.0.0->google-genai==1.7.0) (0.7.0)\n",
      "Requirement already satisfied: pydantic-core==2.23.4 in c:\\users\\sarth\\appdata\\local\\programs\\python\\python312\\lib\\site-packages (from pydantic<3.0.0,>=2.0.0->google-genai==1.7.0) (2.23.4)\n",
      "Requirement already satisfied: charset-normalizer<4,>=2 in c:\\users\\sarth\\appdata\\local\\programs\\python\\python312\\lib\\site-packages (from requests<3.0.0,>=2.28.1->google-genai==1.7.0) (3.3.2)\n",
      "Requirement already satisfied: urllib3<3,>=1.21.1 in c:\\users\\sarth\\appdata\\local\\programs\\python\\python312\\lib\\site-packages (from requests<3.0.0,>=2.28.1->google-genai==1.7.0) (2.2.3)\n",
      "Requirement already satisfied: pyasn1<0.7.0,>=0.4.6 in c:\\users\\sarth\\appdata\\local\\programs\\python\\python312\\lib\\site-packages (from pyasn1-modules>=0.2.1->google-auth<3.0.0,>=2.14.1->google-genai==1.7.0) (0.6.1)\n",
      "Using cached google_genai-1.7.0-py3-none-any.whl (144 kB)\n",
      "Using cached anyio-4.9.0-py3-none-any.whl (100 kB)\n",
      "Using cached httpx-0.28.1-py3-none-any.whl (73 kB)\n",
      "Using cached websockets-15.0.1-cp312-cp312-win_amd64.whl (176 kB)\n",
      "Installing collected packages: websockets, anyio, httpx, google-genai\n",
      "  Attempting uninstall: anyio\n",
      "    Found existing installation: anyio 4.6.0\n",
      "    Uninstalling anyio-4.6.0:\n",
      "      Successfully uninstalled anyio-4.6.0\n",
      "  Attempting uninstall: httpx\n",
      "    Found existing installation: httpx 0.27.2\n",
      "    Uninstalling httpx-0.27.2:\n",
      "      Successfully uninstalled httpx-0.27.2\n",
      "Successfully installed anyio-4.9.0 google-genai-1.7.0 httpx-0.28.1 websockets-15.0.1\n"
     ]
    }
   ],
   "source": [
    "%pip install google-genai==1.7.0"
   ]
  },
  {
   "cell_type": "code",
   "execution_count": 16,
   "metadata": {},
   "outputs": [],
   "source": [
    "import faiss\n",
    "import numpy as np\n",
    "import json\n",
    "from google import genai\n",
    "from google.genai import types\n",
    "client = genai.Client(api_key=GOOGLE_API_KEY)\n",
    "from google.genai import types\n",
    "\n",
    "\n",
    "def get_embeddings(texts, task_type=\"retrieval_document\", batch_size=100):\n",
    "    all_embeddings = []\n",
    "\n",
    "    for i in range(0, len(texts), batch_size):\n",
    "        batch = texts[i:i + batch_size]\n",
    "        response = client.models.embed_content(\n",
    "            model=\"models/text-embedding-004\",\n",
    "            contents=batch,\n",
    "            config=types.EmbedContentConfig(task_type=task_type),\n",
    "        )\n",
    "        embeddings = [e.values for e in response.embeddings]\n",
    "        all_embeddings.extend(embeddings)\n",
    "\n",
    "    return np.array(all_embeddings)\n",
    "\n"
   ]
  },
  {
   "cell_type": "code",
   "execution_count": 17,
   "metadata": {},
   "outputs": [],
   "source": [
    "# Load your assessments\n",
    "with open(\"shl_assessments_individual.json\", \"r\", encoding=\"utf-8\") as f:\n",
    "    individual_data = json.load(f)\n",
    "\n",
    "with open(\"shl_assessments_pre.json\", \"r\", encoding=\"utf-8\") as f:\n",
    "    prepackaged_data = json.load(f)\n",
    "\n",
    "all_data = individual_data + prepackaged_data\n",
    "\n",
    "# Prepare texts to embed — you can customize this format\n",
    "documents = [d[\"name\"] + \" \" + \" \".join(d.get(\"test_types\", [])) for d in all_data]\n",
    "\n",
    "# Generate embeddings\n",
    "document_embeddings = get_embeddings(documents)\n"
   ]
  },
  {
   "cell_type": "code",
   "execution_count": 18,
   "metadata": {},
   "outputs": [],
   "source": [
    "# Create FAISS index\n",
    "dimension = document_embeddings.shape[1]\n",
    "index = faiss.IndexFlatL2(dimension)\n",
    "\n",
    "# Add vectors to FAISS\n",
    "index.add(document_embeddings)\n",
    "\n",
    "# Save metadata for later retrieval\n",
    "metadata = all_data\n"
   ]
  },
  {
   "cell_type": "code",
   "execution_count": 19,
   "metadata": {},
   "outputs": [],
   "source": [
    "def search_assessments(query_text, k=10):\n",
    "    query_vector = get_embeddings([query_text], task_type=\"retrieval_query\")\n",
    "    distances, indices = index.search(query_vector, k)\n",
    "    return [metadata[i] for i in indices[0]]\n"
   ]
  },
  {
   "cell_type": "code",
   "execution_count": 22,
   "metadata": {},
   "outputs": [
    {
     "name": "stdout",
     "output_type": "stream",
     "text": [
      "ReactJS (New) - https://www.shl.com/solutions/products/product-catalog/view/reactjs-new/ - Yes - No - ['K']\n",
      "AngularJS (New) - https://www.shl.com/solutions/products/product-catalog/view/angularjs-new/ - Yes - No - ['K']\n",
      "Salesforce Development (New) - https://www.shl.com/solutions/products/product-catalog/view/salesforce-development-new/ - Yes - No - ['K']\n",
      "Node.js (New) - https://www.shl.com/solutions/products/product-catalog/view/node-js-new/ - Yes - No - ['K']\n",
      "HTML/CSS (New) - https://www.shl.com/solutions/products/product-catalog/view/htmlcss-new/ - Yes - No - ['K']\n",
      "MuleSoft Development (New) - https://www.shl.com/solutions/products/product-catalog/view/mulesoft-development-new/ - Yes - No - ['K']\n",
      "iOS Development (New) - https://www.shl.com/solutions/products/product-catalog/view/ios-development-new/ - Yes - No - ['K']\n",
      "ExpressJS (New) - https://www.shl.com/solutions/products/product-catalog/view/expressjs-new/ - Yes - No - ['K']\n",
      "Ruby on Rails (New) - https://www.shl.com/solutions/products/product-catalog/view/ruby-on-rails-new/ - Yes - No - ['K']\n",
      "Amazon Web Services (AWS) Development (New) - https://www.shl.com/solutions/products/product-catalog/view/amazon-web-services-aws-development-new/ - Yes - No - ['K']\n"
     ]
    }
   ],
   "source": [
    "results = search_assessments(\"Frontend developer with JavaScript and UI skills\")\n",
    "\n",
    "for r in results:\n",
    "    print(r[\"name\"], \"-\", r[\"url\"],\"-\", r[\"remote_support\"], \"-\", r[\"adaptive_support\"], \"-\", r[\"test_types\"])\n"
   ]
  },
  {
   "cell_type": "code",
   "execution_count": 23,
   "metadata": {},
   "outputs": [
    {
     "name": "stdout",
     "output_type": "stream",
     "text": [
      "Requirement already satisfied: tabulate in c:\\users\\sarth\\appdata\\local\\programs\\python\\python312\\lib\\site-packages (0.9.0)\n"
     ]
    },
    {
     "name": "stderr",
     "output_type": "stream",
     "text": [
      "\n",
      "[notice] A new release of pip is available: 24.2 -> 25.0.1\n",
      "[notice] To update, run: python.exe -m pip install --upgrade pip\n"
     ]
    }
   ],
   "source": [
    "!pip install tabulate"
   ]
  },
  {
   "cell_type": "code",
   "execution_count": 25,
   "metadata": {},
   "outputs": [
    {
     "name": "stdout",
     "output_type": "stream",
     "text": [
      "+---------------------------------------------------+--------------------------------------------------------------------------------------------------------+------------------+----------------+--------------+\n",
      "| Assessment Name                                   | URL                                                                                                    | Remote Support   | Adaptive/IRT   | Test Types   |\n",
      "+===================================================+========================================================================================================+==================+================+==============+\n",
      "| Industrial Engineering (New)                      | https://www.shl.com/solutions/products/product-catalog/view/industrial-engineering-new/                | Yes              | No             | K            |\n",
      "+---------------------------------------------------+--------------------------------------------------------------------------------------------------------+------------------+----------------+--------------+\n",
      "| Production and Industrial Engineering (New)       | https://www.shl.com/solutions/products/product-catalog/view/production-and-industrial-engineering-new/ | Yes              | No             | K            |\n",
      "+---------------------------------------------------+--------------------------------------------------------------------------------------------------------+------------------+----------------+--------------+\n",
      "| Production Engineering (New)                      | https://www.shl.com/solutions/products/product-catalog/view/production-engineering-new/                | Yes              | No             | K            |\n",
      "+---------------------------------------------------+--------------------------------------------------------------------------------------------------------+------------------+----------------+--------------+\n",
      "| Mechatronics Engineering (New)                    | https://www.shl.com/solutions/products/product-catalog/view/mechatronics-engineering-new/              | Yes              | No             | K            |\n",
      "+---------------------------------------------------+--------------------------------------------------------------------------------------------------------+------------------+----------------+--------------+\n",
      "| Manufacturing & Industrial - Mechanical Focus 8.0 | https://www.shl.com/solutions/products/product-catalog/view/mechanical-focus-8-0/                      | Yes              | No             | A, P         |\n",
      "+---------------------------------------------------+--------------------------------------------------------------------------------------------------------+------------------+----------------+--------------+\n",
      "| Instrumentation Engineering (New)                 | https://www.shl.com/solutions/products/product-catalog/view/instrumentation-engineering-new/           | Yes              | No             | K            |\n",
      "+---------------------------------------------------+--------------------------------------------------------------------------------------------------------+------------------+----------------+--------------+\n",
      "| Mechanical Engineering (New)                      | https://www.shl.com/solutions/products/product-catalog/view/mechanical-engineering-new/                | Yes              | No             | K            |\n",
      "+---------------------------------------------------+--------------------------------------------------------------------------------------------------------+------------------+----------------+--------------+\n",
      "| Metallurgical Engineering (New)                   | https://www.shl.com/solutions/products/product-catalog/view/metallurgical-engineering-new/             | Yes              | No             | K            |\n",
      "+---------------------------------------------------+--------------------------------------------------------------------------------------------------------+------------------+----------------+--------------+\n",
      "| Chemical Engineering (New)                        | https://www.shl.com/solutions/products/product-catalog/view/chemical-engineering-new/                  | Yes              | No             | K            |\n",
      "+---------------------------------------------------+--------------------------------------------------------------------------------------------------------+------------------+----------------+--------------+\n",
      "| Operations Management (New)                       | https://www.shl.com/solutions/products/product-catalog/view/operations-management-new/                 | Yes              | No             | K            |\n",
      "+---------------------------------------------------+--------------------------------------------------------------------------------------------------------+------------------+----------------+--------------+\n"
     ]
    }
   ],
   "source": [
    "from tabulate import tabulate\n",
    "\n",
    "results = search_assessments(\"industrial Engineering\")\n",
    "\n",
    "# Prepare rows for tabulate\n",
    "table_data = [\n",
    "    [\n",
    "        r[\"name\"],\n",
    "        r[\"url\"],\n",
    "        r[\"remote_support\"],\n",
    "        r[\"adaptive_support\"],\n",
    "        \", \".join(r[\"test_types\"])\n",
    "    ]\n",
    "    for r in results\n",
    "]\n",
    "\n",
    "# Define headers\n",
    "headers = [\"Assessment Name\", \"URL\", \"Remote Support\", \"Adaptive/IRT\", \"Test Types\"]\n",
    "\n",
    "# Print table\n",
    "print(tabulate(table_data, headers=headers, tablefmt=\"grid\"))\n"
   ]
  },
  {
   "cell_type": "code",
   "execution_count": 26,
   "metadata": {},
   "outputs": [],
   "source": [
    "# Save FAISS index to file\n",
    "faiss.write_index(index, \"shl_faiss_index.index\")\n",
    "\n",
    "# Save metadata (JSON) for later use\n",
    "with open(\"shl_metadata.json\", \"w\", encoding=\"utf-8\") as f:\n",
    "    json.dump(metadata, f, ensure_ascii=False, indent=2)\n"
   ]
  },
  {
   "cell_type": "code",
   "execution_count": null,
   "metadata": {},
   "outputs": [],
   "source": []
  }
 ],
 "metadata": {
  "kernelspec": {
   "display_name": "Python 3",
   "language": "python",
   "name": "python3"
  },
  "language_info": {
   "codemirror_mode": {
    "name": "ipython",
    "version": 3
   },
   "file_extension": ".py",
   "mimetype": "text/x-python",
   "name": "python",
   "nbconvert_exporter": "python",
   "pygments_lexer": "ipython3",
   "version": "3.12.6"
  }
 },
 "nbformat": 4,
 "nbformat_minor": 2
}
